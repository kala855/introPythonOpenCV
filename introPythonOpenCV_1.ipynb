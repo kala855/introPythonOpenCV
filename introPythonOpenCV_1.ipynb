{
 "cells": [
  {
   "cell_type": "markdown",
   "metadata": {
    "slideshow": {
     "slide_type": "-"
    }
   },
   "source": [
    "# ¿Qué es Visión por computador?\n",
    "\n",
    "La visión por computador es un campo científico que incluye métodos para capturar, procesar, analizar y comprender imágenes. Actualmente se busca emular computacionalmente la visión del ser humano, buscando obtener la mayor cantidad de información de una imagen.\n",
    "\n",
    "Por ejemplo, qué información podríamos obtener de la siguiente imagen ?\n",
    "\n",
    "<img src=\"./images/birdFrog.jpg\" style=\"width: 400px\"/>\n",
    "\n",
    "Aunque parece simple, podríamos decir cosas como lo siguiente:\n",
    "\n",
    "<img src=\"./images/birdFrogDetected.jpg\" style=\"width: 400px\"/>\n",
    "\n",
    "Este tipo de cosas pueden hacerse a través de sistemas de visión por computador complejos, en la actualidad es posible pasarle un conjunto de imágenes a algunos programas y estos nos retornan clasificación de objetos al interior de las figuras e incluso vídeos.\n",
    "\n",
    "Este tipo de tareas a primera vista como ya lo dijimos parecen sencillos, sin embargo la cantidad de algoritmos y codificación que debe hacerse tiende a ser bastante compleja.\n",
    "\n",
    "## ¿Qué es una imagen Digital?\n",
    "\n",
    "Una imagen es una representación, que manifiesta la apariencia visual de un objeto real o imaginario. En nuestro taller introductorio la imagen será en efecto una representación gráfica de algo que percibimos a través de nuestros ojos, y que generalmente puede, o ser dibujada o ser capturada a través de una cámara fotográfica.\n",
    "\n",
    "A continuación veremos un pequeño ejemplo que nos permite cargar una imagen y mostrarla, inicialmente utilizaremos __Python__ como lenguaje de programación que nos permitirá interactuar con los diferentes ejercicios que realizaremos el día de hoy. Recuerden que ante cualquier duda pueden realizar las preguntas que deseen, nosotros como instructores estaremos para ayudarles."
   ]
  },
  {
   "cell_type": "code",
   "execution_count": null,
   "metadata": {},
   "outputs": [],
   "source": [
    "%matplotlib inline        \n",
    "import cv2\n",
    "from matplotlib import pyplot as plt\n",
    "import numpy as np\n",
    "\n",
    "img = cv2.imread('./images/birdFrog.jpg')\n",
    "img = cv2.cvtColor(img, cv2.COLOR_BGR2RGB)                           \n",
    "plt.imshow(img)\n",
    "plt.show()"
   ]
  },
  {
   "cell_type": "markdown",
   "metadata": {},
   "source": [
    "Ahora, vamos a tratar de ver que en realidad una imagen si la miramos muy muy de cerca se convierte en un conjunto de valores que están almacenados en forma matricial, y cada elemento de esa matriz se conoce como píxel y puede almacenarse de varias formas, sin embargo la más utilizada es __RGB__ y la vamos a utilizar como formato por defecto. Ahora miremos a fondo la imagen para que veamos de qué se trata todo esto. Vamos a hacer un acercamiento muy potente a una parte de la imagen\n",
    "\n",
    "<img src=\"./images/pixels.png\" style=\"width: 900px\"/>\n",
    "\n",
    "Como se puede apreciar la imagen en realidad contiene un conjunto de valores, almacenados en pequeños recuadros, cada uno de esos recuadros se convierte en un punto o píxel de la imagen original, si vemos con detenimiento los valores que se encuentran en el primer cuadrito dicen __138, 129 y 74__, estos números representan la cantidad de color Rojo, Verde y Azul que contiene ese píxel. Cada uno de esos valores puede estar en un rango que va de 0 hasta 255. Siendo cero la ausencia de ese color y 255 que hay mucho de él.\n",
    "\n",
    "Ahora es claro que lo que tenemos en realidad es un matriz que contiene muchos valores, tantos como el tamaño de la imagen.\n",
    "\n",
    "### ¿Pero entonces qué es una matriz?\n",
    "\n",
    "Una matriz es una forma en la cual yo puedo guardar datos bidimensionales, tales como una imagen, que tiene un ancho y un alto. Veamos un ejemplo de una pequeña matriz de __4 X 4__:"
   ]
  },
  {
   "cell_type": "code",
   "execution_count": null,
   "metadata": {
    "scrolled": false
   },
   "outputs": [],
   "source": [
    "matriz = np.random.rand(4,4)\n",
    "print(matriz)"
   ]
  },
  {
   "cell_type": "markdown",
   "metadata": {},
   "source": [
    "Ahora imprimamos por ejemplo, la posición [2,2] de nuestra matriz de ejemplo:"
   ]
  },
  {
   "cell_type": "code",
   "execution_count": null,
   "metadata": {},
   "outputs": [],
   "source": [
    "print(matriz[2][2])"
   ]
  },
  {
   "cell_type": "markdown",
   "metadata": {},
   "source": [
    "Ahora vamos a imprimir el valor que está siendo resaltado en la siguiente imagen, recuerden que el valor como tal puede cambiar con respecto al de la imagen:\n",
    "\n",
    "<img src=\"./images/matrixValue.png\" style=\"width: 400px\"/>\n",
    "\n",
    "Para esto vamos a hacerlo nosotros mismos, en la siguiente celda de código que valores deberían tener las letras _x_ y _y_ ?\n",
    "\n",
    "_Al finalizar preguntarle al instructor o co-instructor si se imprimió el valor correcto_"
   ]
  },
  {
   "cell_type": "code",
   "execution_count": null,
   "metadata": {},
   "outputs": [],
   "source": [
    "print(matriz[2][1])# Cambiar el valor de la x y la y para que se imprima la posición resaltada"
   ]
  },
  {
   "cell_type": "markdown",
   "metadata": {},
   "source": [
    "Ahora bien, ya sabemos de que se tratan las matrices y qué podemos acceder a ellas a través de índices tal y como lo hicimos en el ejemplo anterior, ahora de la misma forma que accedimos al valor anterior podemos hacerlo pero para la matriz que representa nuestra imagen, en este caso esa matriz fue llamada __img__, vamos entonces a acceder a una posición de esa matriz y a imprimir el valor del píxel que allí se encuentra."
   ]
  },
  {
   "cell_type": "code",
   "execution_count": null,
   "metadata": {},
   "outputs": [],
   "source": [
    "print \"El píxel en la posición (0,0) [R, G, B] :\\t [%i,%i,%i]\" % tuple(img[0,0,:])"
   ]
  },
  {
   "cell_type": "markdown",
   "metadata": {},
   "source": [
    "Si comparamos ese color con nuestra imagen efectivamente nos daremos cuenta que estamos hablando de la combinación __RGB__ que se encuentra almacenada en esa posición. Ahoramos veamos una figura que nos permitirá comprender un poco más de que se trata:\n",
    "\n",
    "<img src=\"./images/birdFrogPixel.png\" style=\"width: 600px\"/>\n",
    "\n",
    "Como podemos ver los valores que se encuentran almacenados en la posición __[0,0]__ son __[105,97,51]__. Ésta imagen es tomada a partir de un software llamado __gimp__ que nos permite trabajar con imágenes. Aquí estamos extrayendo el valor RGB del primer píxel de nuestra imagen.\n",
    "\n",
    "Debido a esto es necesario que cuando estemos hablando de manipulación de imágenes tengamos que trabajar con matrices ya que es la forma por defecto en la cual se almacenan las imágenes.\n",
    "\n",
    "Ahora vamos a realizar el proceso de construcción de una imagen a partir de una matriz, esto con el fin de ver que en efecto esto podemos hacerlo. Ejecutemos la siguiente celda y veamos que obtenemos:"
   ]
  },
  {
   "cell_type": "code",
   "execution_count": null,
   "metadata": {},
   "outputs": [],
   "source": [
    "plt.gray() # Este comando permite decirle a Python la codificacion de colores a usar\n",
    "imgMatriz = np.random.rand(4,4) * 255 # Se generan números aleatorios entre 0 y 255.\n",
    "plt.imshow(imgMatriz) \n",
    "plt.show()"
   ]
  },
  {
   "cell_type": "markdown",
   "metadata": {},
   "source": [
    "Si imprimimos la matriz que acabamos de usar obtendríamos algo como lo siguiente:"
   ]
  },
  {
   "cell_type": "code",
   "execution_count": null,
   "metadata": {},
   "outputs": [],
   "source": [
    "print (imgMatriz)"
   ]
  },
  {
   "cell_type": "markdown",
   "metadata": {},
   "source": [
    "## Modificando una imagen\n",
    "\n",
    "Ahora vamos a jugar un poco con la imagen, inicialmente retomemos el proceso de lectura de la imagen que ya habíamos hecho previamente:\n",
    "\n",
    "``` python\n",
    "import cv2\n",
    "from matplotlib import pyplot as plt\n",
    "import numpy as np\n",
    "\n",
    "img = cv2.imread('./images/birdFrog.jpg')\n",
    "img = cv2.cvtColor(img, cv2.COLOR_BGR2RGB)                           \n",
    "plt.imshow(img)\n",
    "plt.show()\n",
    "```\n",
    "Vamos a explicar línea por línea para que sirve lo que estamos haciendo:\n",
    "\n",
    "```python\n",
    "import cv2\n",
    "```\n",
    "Esta línea permite invocar una librería muy conocida en el área de la investigación y de la visión por computador que se llama [OpenCV](http://opencv.org/ \"OpenCV\"), ésta librería permite realizar manipulación y análisis de imágenes utilizando algoritmos previamente construídos por expertos en el tema.\n",
    "\n",
    "```python\n",
    "from matplotlib import pyplot as plt\n",
    "```\n",
    "Esta línea permite importar una parte de la librería [matplotlib](http://matplotlib.org/ \"MatPlotLib\") que permite realizar gráficas y mostrar imágenes. al usar el comando __as__ le estamos diciendo a __Python__ que la librería de ahí en adelante se va a llamar __plt__, esto con el fin de reducir la cantidad de letras de la librería __pyplot__ al hacer referencia a ella.\n",
    "\n",
    "```python\n",
    "import numpy as np\n",
    "```\n",
    "Esta línea permite importar la librería [numpy](http://numpy.org) que permite trabajar con las matrices, recuerden que las matrices son la forma en la cuál son representadas las imágenes para nuestro computador.\n",
    "\n",
    "```python\n",
    "img = cv2.imread('./images/birdFrog.jpg')\n",
    "```\n",
    "Esta línea nos permite leer una imagen guardada en el disco duro de nuestro pc y guardarla en una variable en __Python__, en este caso la función __imread__ de OpenCV nos permite hacer ésta tarea. De este modo entonces en la variable llamada __img__ quedará la representación de la imagen como si fuera una matriz.\n",
    "\n",
    "```python\n",
    "img = cv2.cvtColor(img, cv2.COLOR_BGR2RGB)\n",
    "```\n",
    "En este caso lo que se hace es tomar la imagen que acabamos de cargar en la variable __img__ y a través del comando __cvtColor__ convertirla de un espacio de color a otro, para el ejemplo en cuestión, lo que estamos haciendo es pasar del esquema de color por defecto que usa __OpenCV__ que es __BGR__ _(Blue, Green y Red)_ a __RGB__ _(Red, Green y Blue)_ que es como lo maneja __MatplotLib__.\n",
    "\n",
    "```python\n",
    "plt.imshow(img)\n",
    "plt.show()\n",
    "```\n",
    "Finalmente lo que hacemos es decirle a __pyplot__ que muestre la imagen cargada desde el disco.\n",
    "\n",
    "## Ejemplo\n",
    "\n",
    "En la siguiente celda y a partir de lo explicado anteriormente vamos a cargar una imagen que se encuentra en disco y que tiene el nombre __./images/prueba1.jpg__ y vamos a mostrarla en pantalla."
   ]
  },
  {
   "cell_type": "code",
   "execution_count": null,
   "metadata": {},
   "outputs": [],
   "source": [
    "import cv2\n",
    "from matplotlib import pyplot as plt\n",
    "import numpy as np\n",
    "\n",
    "img = cv2.imread('./images/prueba1.jpg')\n",
    "img = cv2.cvtColor(img, cv2.COLOR_BGR2RGB)                           \n",
    "plt.imshow(img)\n",
    "plt.show()\n"
   ]
  },
  {
   "cell_type": "markdown",
   "metadata": {},
   "source": [
    "### Cambio de valores a píxeles de una imagen\n",
    "Ahora vamos a cambiar algunos valores en la imagen y ver qué pasa:"
   ]
  },
  {
   "cell_type": "code",
   "execution_count": null,
   "metadata": {},
   "outputs": [],
   "source": [
    "img = cv2.imread('./images/birdFrog.jpg')\n",
    "img = cv2.cvtColor(img, cv2.COLOR_BGR2RGB)\n",
    "img[0,0,:] [0] = 255 ## Podemos experimentar con estos valores, tratemos de cambiarlo\n",
    "img[0,0,:] [1] = 255 ## por números diferentes y ejecutar de nuevo este código y el que\n",
    "img[0,0,:] [2] = 255 ## está más abajo. :)\n",
    "img2 = cv2.cvtColor(img, cv2.COLOR_RGB2BGR)\n",
    "cv2.imwrite('./images/imgOut.png',img2)\n",
    "plt.imshow(img)\n",
    "plt.show()"
   ]
  },
  {
   "cell_type": "markdown",
   "metadata": {},
   "source": [
    "En primera instancia pareciera que la imagen no se ha cambiado, sin embargo si imprimimos el valor del primer píxel de la imagen veremos que si que ha cambiado."
   ]
  },
  {
   "cell_type": "code",
   "execution_count": null,
   "metadata": {},
   "outputs": [],
   "source": [
    "print \"El píxel en la posición (0,0) [R, G, B] :\\t [%i,%i,%i]\" % tuple(img2[0,0,:])"
   ]
  },
  {
   "cell_type": "markdown",
   "metadata": {},
   "source": [
    "Intentemos ahora cambiar un bloque de píxeles de la imagen, en este caso vamos a tomar desde la fila 200 hasta la 240 y desde allí escribiremos en todas las columnas, ésta imagen tiene un ancho de 1920 píxeles."
   ]
  },
  {
   "cell_type": "code",
   "execution_count": null,
   "metadata": {
    "scrolled": true
   },
   "outputs": [],
   "source": [
    "img2[200:240,:,:] = np.ones((40,1920,3)) * 100\n",
    "img2 = cv2.cvtColor(img2, cv2.COLOR_BGR2RGB)\n",
    "cv2.imwrite('./images/imgOut.png',img2)\n",
    "plt.imshow(img2)\n",
    "plt.show()"
   ]
  }
 ],
 "metadata": {
  "kernelspec": {
   "display_name": "Python 2",
   "language": "python",
   "name": "python2"
  },
  "language_info": {
   "codemirror_mode": {
    "name": "ipython",
    "version": 2
   },
   "file_extension": ".py",
   "mimetype": "text/x-python",
   "name": "python",
   "nbconvert_exporter": "python",
   "pygments_lexer": "ipython2",
   "version": "2.7.12"
  }
 },
 "nbformat": 4,
 "nbformat_minor": 1
}
